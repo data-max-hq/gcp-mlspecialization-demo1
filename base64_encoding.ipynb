{
 "cells": [
  {
   "cell_type": "code",
   "execution_count": null,
   "metadata": {
    "vscode": {
     "languageId": "plaintext"
    }
   },
   "outputs": [],
   "source": [
    "import tensorflow as tf\n",
    "import base64"
   ]
  },
  {
   "cell_type": "code",
   "execution_count": null,
   "metadata": {
    "vscode": {
     "languageId": "plaintext"
    }
   },
   "outputs": [],
   "source": [
    "# Function to serialize byte values\n",
    "def _bytes_feature(value):\n",
    "    return tf.train.Feature(bytes_list=tf.train.BytesList(value=[value]))\n",
    "\n",
    "# Function to serialize float values\n",
    "def _floats_feature(value):\n",
    "    return tf.train.Feature(float_list=tf.train.FloatList(value=[value]))\n",
    "\n",
    "# Function to serialize int64 values\n",
    "def _int64_feature(value):\n",
    "    return tf.train.Feature(int64_list=tf.train.Int64List(value=[value]))\n",
    "\n",
    "# Function to serialize features based on their types dynamically\n",
    "def serialize_dynamic_features(data):\n",
    "    feature_dict = {}\n",
    "\n",
    "    for feature, value in data.items():\n",
    "        # Check the type of the feature's value and serialize accordingly\n",
    "        if isinstance(value, str):\n",
    "            feature_dict[feature] = _bytes_feature(value.encode('utf-8'))  # For string, serialize as bytes\n",
    "        elif isinstance(value, float):\n",
    "            feature_dict[feature] = _floats_feature(value)  # For float, serialize as float\n",
    "        elif isinstance(value, int):\n",
    "            feature_dict[feature] = _int64_feature(value)  # For int, serialize as int64\n",
    "        else:\n",
    "            raise ValueError(f\"Unsupported type for feature '{feature}': {type(value)}\")\n",
    "\n",
    "    # Create a tf.train.Example with the serialized features\n",
    "    example = tf.train.Example(features=tf.train.Features(feature=feature_dict))\n",
    "    serialized_example = example.SerializeToString()\n",
    "\n",
    "    return serialized_example"
   ]
  },
  {
   "cell_type": "code",
   "execution_count": null,
   "metadata": {
    "vscode": {
     "languageId": "plaintext"
    }
   },
   "outputs": [],
   "source": [
    "# Example data dictionary (flexible)\n",
    "data = {\n",
    "    'Company': 'ABC Corp',\n",
    "    'DropoffCommunityArea': 5.0,\n",
    "    'PaymentType': 'cc',\n",
    "    'PickupCommunityArea': 3.0,\n",
    "    'TripEndTimestamp': '25:04:2144',\n",
    "    'TripMiles': 0.2,\n",
    "    'TripSeconds': 0.5,\n",
    "    'TripStartTimestamp': '25:04:2145',\n",
    "}"
   ]
  },
  {
   "cell_type": "code",
   "execution_count": null,
   "metadata": {
    "vscode": {
     "languageId": "plaintext"
    }
   },
   "outputs": [],
   "source": [
    "# Serialize the example data dynamically\n",
    "example_serialized = serialize_dynamic_features(data)\n",
    "\n",
    "# Optionally encode to base64 to view the result in a more readable format\n",
    "encoded_example = base64.b64encode(example_serialized).decode('utf-8')\n",
    "print(encoded_example)"
   ]
  }
 ],
 "metadata": {
  "language_info": {
   "name": "python"
  }
 },
 "nbformat": 4,
 "nbformat_minor": 2
}
