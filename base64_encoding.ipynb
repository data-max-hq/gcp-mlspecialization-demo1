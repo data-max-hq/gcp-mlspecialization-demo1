```python
# Cell 1: Import necessary libraries
import tensorflow as tf
import base64
```

```python
# Function to serialize byte values
def _bytes_feature(value):
    return tf.train.Feature(bytes_list=tf.train.BytesList(value=[value]))

# Function to serialize float values
def _floats_feature(value):
    return tf.train.Feature(float_list=tf.train.FloatList(value=[value]))

# Function to serialize int64 values
def _int64_feature(value):
    return tf.train.Feature(int64_list=tf.train.Int64List(value=[value]))
```

```python
# Cell 3: Function to serialize features dynamically based on type
def serialize_dynamic_features(data):
    feature_dict = {}

    for feature, value in data.items():
        # Check the type of the feature's value and serialize accordingly
        if isinstance(value, str):
            feature_dict[feature] = _bytes_feature(value.encode('utf-8'))  # For string, serialize as bytes
        elif isinstance(value, float):
            feature_dict[feature] = _floats_feature(value)  # For float, serialize as float
        elif isinstance(value, int):
            feature_dict[feature] = _int64_feature(value)  # For int, serialize as int64
        else:
            raise ValueError(f"Unsupported type for feature '{feature}': {type(value)}")

    # Create a tf.train.Example with the serialized features
    example = tf.train.Example(features=tf.train.Features(feature=feature_dict))
    serialized_example = example.SerializeToString()

    return serialized_example
```

```python
# Cell 4: Example data dictionary to be serialized
data = {
    'Company': 'ABC Corp',
    'DropoffCommunityArea': 5.0,
    'PaymentType': 'cc',
    'PickupCommunityArea': 3.0,
    'TripEndTimestamp': '25:04:2144',
    'TripMiles': 0.2,
    'TripSeconds': 0.5,
    'TripStartTimestamp': '25:04:2145',
}
```

```python
# Cell 5: Serialize the example data dynamically and print base64 encoded output
example_serialized = serialize_dynamic_features(data)
encoded_example = base64.b64encode(example_serialized).decode('utf-8')
print(encoded_example)
```
