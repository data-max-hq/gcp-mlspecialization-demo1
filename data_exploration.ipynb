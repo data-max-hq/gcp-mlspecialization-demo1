{
  "cells": [
    {
      "cell_type": "code",
      "execution_count": null,
      "id": "0993abf1-d38a-4264-998f-88f29095deca",
      "metadata": {
        "tags": []
      },
      "outputs": [],
      "source": [
        "!pip install pandas matplotlib seaborn google-cloud-bigquery"
      ]
    },
    {
      "cell_type": "markdown",
      "id": "2a8cf19a-e95d-4b49-8a4b-e2a898ea32a0",
      "metadata": {
        "tags": []
      },
      "source": [
        "### Jupyter Notebook Content\n",
        "\n",
        "Let's proceed with the notebook content, broken down into cells with explanations:"
      ]
    },
    {
      "cell_type": "markdown",
      "id": "80c14c64-52e2-45d2-9bc6-4ccff89fa239",
      "metadata": {
        "tags": []
      },
      "source": [
        "# Cell 1: Import Libraries"
      ]
    },
    {
      "cell_type": "code",
      "execution_count": null,
      "id": "27f60240-facf-449a-877a-3300e26b2bc9",
      "metadata": {
        "tags": []
      },
      "outputs": [],
      "source": [
        "import pandas as pd\n",
        "import matplotlib.pyplot as plt\n",
        "import seaborn as sns\n",
        "from google.cloud import bigquery\n",
        "\n",
        "# Initialize BigQuery client\n",
        "client = bigquery.Client()"
      ]
    },
    {
      "cell_type": "markdown",
      "id": "5f6b3310-513b-4b4f-a543-cd2c57d31b3f",
      "metadata": {
        "tags": []
      },
      "source": [
        "# Cell 2: Define and Execute the Query"
      ]
    },
    {
      "cell_type": "code",
      "execution_count": null,
      "id": "b4dd0adf-7a2e-47f4-a243-4a48d6030313",
      "metadata": {
        "tags": []
      },
      "outputs": [],
      "source": [
        "query = \"\"\"\n",
        "SELECT\n",
        "    CAST(trip_seconds AS FLOAT64) AS TripSeconds,\n",
        "    CAST(trip_miles AS FLOAT64) AS TripMiles,\n",
        "    CAST(pickup_community_area AS FLOAT64) AS PickupCommunityArea,\n",
        "    CAST(dropoff_community_area AS FLOAT64) AS DropoffCommunityArea,\n",
        "    CAST(trip_start_timestamp AS STRING) AS TripStartTimestamp,\n",
        "    CAST(trip_end_timestamp AS STRING) AS TripEndTimestamp,\n",
        "    CAST(payment_type AS STRING) AS PaymentType,\n",
        "    CAST(company AS STRING) AS Company,\n",
        "    CAST(fare AS FLOAT64) AS Fare\n",
        "FROM\n",
        "    `bigquery-public-data.chicago_taxi_trips.taxi_trips`\n",
        "LIMIT 100000\n",
        "\"\"\"\n",
        "\n",
        "# Execute the query and load the results into a DataFrame\n",
        "df = client.query(query).to_dataframe()\n",
        "\n",
        "# Display a few rows of the dataframe to ensure data is loaded\n",
        "df.head()"
      ]
    },
    {
      "cell_type": "markdown",
      "id": "bc8f1ac9-80b4-447e-866d-d3a72478ced5",
      "metadata": {
        "tags": []
      },
      "source": [
        "# Cell 3: Basic Statistics and Missing Values Analysis"
      ]
    },
    {
      "cell_type": "code",
      "execution_count": null,
      "id": "59c4bbde-e2a2-4e8e-a0b4-92a42829a175",
      "metadata": {
        "tags": []
      },
      "outputs": [],
      "source": [
        "# Display basic statistics\n",
        "df.describe()"
      ]
    },
    {
      "cell_type": "markdown",
      "id": "2af15a12-31a3-484b-b9e2-3c2261af8681",
      "metadata": {
        "tags": []
      },
      "source": [
        "# Cell 4: Missing Values Analysis"
      ]
    },
    {
      "cell_type": "code",
      "execution_count": null,
      "id": "76bbe5a1-a230-45de-b25a-18dae8f7871d",
      "metadata": {
        "tags": []
      },
      "outputs": [],
      "source": [
        "missing_values = df.isnull().sum()\n",
        "zero_values = (df == 0).sum()\n",
        "\n",
        "print(\"Missing values in each column:\\n\", missing_values)\n",
        "print(\"\\nZero values in each column:\\n\", zero_values)"
      ]
    },
    {
      "cell_type": "markdown",
      "id": "90da5d99-8465-47d3-9ba2-0f14daa1aefb",
      "metadata": {
        "tags": []
      },
      "source": [
        "# Cell 5: Visualizations - Numerical Features"
      ]
    },
    {
      "cell_type": "code",
      "execution_count": null,
      "id": "eab67fed-ca17-475c-9a97-4983464903b9",
      "metadata": {
        "tags": []
      },
      "outputs": [],
      "source": [
        "# Visualization of numerical features distributions\n",
        "numerical_features = ['TripSeconds', 'TripMiles', 'Fare']\n",
        "\n",
        "for feature in numerical_features:\n",
        "    plt.figure(figsize=(10, 6))\n",
        "    sns.histplot(df[feature], bins=50, kde=True)\n",
        "    plt.title(f'Distribution of {feature}')\n",
        "    plt.xlabel(feature)\n",
        "    plt.ylabel('Frequency')\n",
        "    plt.show()"
      ]
    },
    {
      "cell_type": "markdown",
      "id": "34945b53-f975-4ce0-93fa-15116fb13bce",
      "metadata": {
        "tags": []
      },
      "source": [
        "# Cell 6: Visualizations - Categorical Features"
      ]
    },
    {
      "cell_type": "code",
      "execution_count": null,
      "id": "249d6fc3-cf97-40e5-af3d-e620f0e296a8",
      "metadata": {
        "tags": []
      },
      "outputs": [],
      "source": [
        "# Visualization of categorical features count\n",
        "categorical_features = ['PaymentType', 'Company']\n",
        "\n",
        "for feature in categorical_features:\n",
        "    plt.figure(figsize=(10, 6))\n",
        "    sns.countplot(y=df[feature], order=df[feature].value_counts().index)\n",
        "    plt.title(f'Count of {feature}')\n",
        "    plt.xlabel('Count')\n",
        "    plt.ylabel(feature)\n",
        "    plt.show()"
      ]
    },
    {
      "cell_type": "markdown",
      "id": "1808f8fb-6322-4d0a-a0c4-acf612ac165e",
      "metadata": {
        "tags": []
      },
      "source": [
        "# Cell 7: Scatter Plots for Exploring Relationships"
      ]
    },
    {
      "cell_type": "code",
      "execution_count": null,
      "id": "6e3f0a43-039e-43f1-bbc1-1be183b4fb1b",
      "metadata": {
        "tags": []
      },
      "outputs": [],
      "source": [
        "# Scatter plot to explore the relationship between TripMiles and Fare\n",
        "plt.figure(figsize=(10, 6))\n",
        "sns.scatterplot(x='TripMiles', y='Fare', data=df)\n",
        "plt.title('Fare vs TripMiles')\n",
        "plt.xlabel('TripMiles')\n",
        "plt.ylabel('Fare')\n",
        "plt.show()\n",
        "\n",
        "# Scatter plot to explore the relationship between TripSeconds and Fare\n",
        "plt.figure(figsize=(10, 6))\n",
        "sns.scatterplot(x='TripSeconds', y='Fare', data=df)\n",
        "plt.title('Fare vs TripSeconds')\n",
        "plt.xlabel('TripSeconds')\n",
        "plt.ylabel('Fare')\n",
        "plt.show()"
      ]
    },
    {
      "cell_type": "markdown",
      "id": "6b5da9f0-03e3-40ec-9de7-f5f51cced924",
      "metadata": {
        "tags": []
      },
      "source": [
        "# Cell 8: Box Plot for Detecting Outliers"
      ]
    },
    {
      "cell_type": "code",
      "execution_count": null,
      "id": "bd121b9f-7712-4713-b21c-55a9040d3d36",
      "metadata": {
        "tags": []
      },
      "outputs": [],
      "source": [
        "# Box plot to detect outliers in Fare\n",
        "plt.figure(figsize=(10, 6))\n",
        "sns.boxplot(x='Fare', data=df)\n",
        "plt.title('Box plot of Fare')\n",
        "plt.xlabel('Fare')\n",
        "plt.show()"
      ]
    },
    {
      "cell_type": "markdown",
      "id": "a295b38c-bbf7-4ca9-b181-d2217039a177",
      "metadata": {
        "tags": []
      },
      "source": [
        "### Explanations\n",
        "\n",
        "- **Cell 1**: Imports the necessary libraries and initializes the BigQuery client.\n",
        "- **Cell 2**: Defines the SQL query to extract the relevant data from the BigQuery dataset. It then executes the query and loads the results into a pandas DataFrame. Finally, it displays the first few rows to confirm that the data was loaded correctly.\n",
        "- **Cell 3**: Displays basic statistics of the dataset using `df.describe()`.\n",
        "- **Cell 4**: Analyzes the missing values in each column and prints the results.\n",
        "- **Cell 5**: Creates histograms for the numerical features (`TripSeconds`, `TripMiles`, `Fare`) using seaborn for visualization.\n",
        "- **Cell 6**: Visualizes the count of categorical features (`PaymentType`, `Company`) using count plots.\n",
        "- **Cell 7**: Creates scatter plots to explore the relationships between `TripMiles` and `Fare`, and `TripSeconds` and `Fare`.\n",
        "- **Cell 8**: Generates box plots to detect outliers within the `Fare` variable.\n",
        "\n",
        "With this notebook, you will have a comprehensive analysis of the taxi trips data from BigQuery, including basic statistics, missing values analysis, and various visualizations to understand the data distribution and relationships."
      ]
    }
  ],
  "metadata": {
    "environment": {
      "kernel": "conda-base-py",
      "name": "workbench-notebooks.m123",
      "type": "gcloud",
      "uri": "us-docker.pkg.dev/deeplearning-platform-release/gcr.io/workbench-notebooks:m123"
    },
    "kernelspec": {
      "display_name": "Python 3 (ipykernel) (Local) (Local)",
      "language": "python",
      "name": "conda-base-py"
    },
    "language_info": {
      "codemirror_mode": {
        "name": "ipython",
        "version": 3
      },
      "file_extension": ".py",
      "mimetype": "text/x-python",
      "name": "python",
      "nbconvert_exporter": "python",
      "pygments_lexer": "ipython3",
      "version": "3.10.14"
    }
  },
  "nbformat": 4,
  "nbformat_minor": 5
}
